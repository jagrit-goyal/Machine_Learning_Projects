{
 "cells": [
  {
   "cell_type": "code",
   "execution_count": 1,
   "metadata": {},
   "outputs": [],
   "source": [
    "import numpy as np \n",
    "import pandas as pd \n",
    "import matplotlib.pyplot as plt \n",
    "from sklearn.preprocessing import MinMaxScaler\n",
    "from keras.models import Sequential\n",
    "from keras.layers import Dense,LSTM,Dropout"
   ]
  },
  {
   "cell_type": "code",
   "execution_count": 2,
   "metadata": {},
   "outputs": [
    {
     "data": {
      "text/html": [
       "<div>\n",
       "<style scoped>\n",
       "    .dataframe tbody tr th:only-of-type {\n",
       "        vertical-align: middle;\n",
       "    }\n",
       "\n",
       "    .dataframe tbody tr th {\n",
       "        vertical-align: top;\n",
       "    }\n",
       "\n",
       "    .dataframe thead th {\n",
       "        text-align: right;\n",
       "    }\n",
       "</style>\n",
       "<table border=\"1\" class=\"dataframe\">\n",
       "  <thead>\n",
       "    <tr style=\"text-align: right;\">\n",
       "      <th></th>\n",
       "      <th>Date</th>\n",
       "      <th>Open</th>\n",
       "      <th>High</th>\n",
       "      <th>Low</th>\n",
       "      <th>Close</th>\n",
       "      <th>Volume</th>\n",
       "    </tr>\n",
       "  </thead>\n",
       "  <tbody>\n",
       "    <tr>\n",
       "      <th>0</th>\n",
       "      <td>1/3/2012</td>\n",
       "      <td>325.25</td>\n",
       "      <td>332.83</td>\n",
       "      <td>324.97</td>\n",
       "      <td>663.59</td>\n",
       "      <td>7,380,500</td>\n",
       "    </tr>\n",
       "    <tr>\n",
       "      <th>1</th>\n",
       "      <td>1/4/2012</td>\n",
       "      <td>331.27</td>\n",
       "      <td>333.87</td>\n",
       "      <td>329.08</td>\n",
       "      <td>666.45</td>\n",
       "      <td>5,749,400</td>\n",
       "    </tr>\n",
       "    <tr>\n",
       "      <th>2</th>\n",
       "      <td>1/5/2012</td>\n",
       "      <td>329.83</td>\n",
       "      <td>330.75</td>\n",
       "      <td>326.89</td>\n",
       "      <td>657.21</td>\n",
       "      <td>6,590,300</td>\n",
       "    </tr>\n",
       "    <tr>\n",
       "      <th>3</th>\n",
       "      <td>1/6/2012</td>\n",
       "      <td>328.34</td>\n",
       "      <td>328.77</td>\n",
       "      <td>323.68</td>\n",
       "      <td>648.24</td>\n",
       "      <td>5,405,900</td>\n",
       "    </tr>\n",
       "    <tr>\n",
       "      <th>4</th>\n",
       "      <td>1/9/2012</td>\n",
       "      <td>322.04</td>\n",
       "      <td>322.29</td>\n",
       "      <td>309.46</td>\n",
       "      <td>620.76</td>\n",
       "      <td>11,688,800</td>\n",
       "    </tr>\n",
       "  </tbody>\n",
       "</table>\n",
       "</div>"
      ],
      "text/plain": [
       "       Date    Open    High     Low   Close      Volume\n",
       "0  1/3/2012  325.25  332.83  324.97  663.59   7,380,500\n",
       "1  1/4/2012  331.27  333.87  329.08  666.45   5,749,400\n",
       "2  1/5/2012  329.83  330.75  326.89  657.21   6,590,300\n",
       "3  1/6/2012  328.34  328.77  323.68  648.24   5,405,900\n",
       "4  1/9/2012  322.04  322.29  309.46  620.76  11,688,800"
      ]
     },
     "execution_count": 2,
     "metadata": {},
     "output_type": "execute_result"
    }
   ],
   "source": [
    "data = pd.read_csv('Google_train_data.csv')\n",
    "data.head()"
   ]
  },
  {
   "cell_type": "code",
   "execution_count": 3,
   "metadata": {},
   "outputs": [
    {
     "name": "stdout",
     "output_type": "stream",
     "text": [
      "<class 'pandas.core.frame.DataFrame'>\n",
      "RangeIndex: 1258 entries, 0 to 1257\n",
      "Data columns (total 6 columns):\n",
      " #   Column  Non-Null Count  Dtype  \n",
      "---  ------  --------------  -----  \n",
      " 0   Date    1258 non-null   object \n",
      " 1   Open    1258 non-null   float64\n",
      " 2   High    1258 non-null   float64\n",
      " 3   Low     1258 non-null   float64\n",
      " 4   Close   1258 non-null   object \n",
      " 5   Volume  1258 non-null   object \n",
      "dtypes: float64(3), object(3)\n",
      "memory usage: 59.1+ KB\n"
     ]
    }
   ],
   "source": [
    "data.info()"
   ]
  },
  {
   "cell_type": "code",
   "execution_count": 4,
   "metadata": {},
   "outputs": [],
   "source": [
    "data[\"Close\"]=pd.to_numeric(data.Close,errors='coerce')\n",
    "#errors='coerce --> forces to convert non numeric number to NaN\n",
    "data = data.dropna()\n",
    "# droping rows with Nan values\n",
    "trainData = data.iloc[:,4:5].values\n",
    "#selects only the fifth column. iloc is used for integer-location based indexing."
   ]
  },
  {
   "cell_type": "code",
   "execution_count": 5,
   "metadata": {},
   "outputs": [
    {
     "name": "stdout",
     "output_type": "stream",
     "text": [
      "<class 'pandas.core.frame.DataFrame'>\n",
      "Int64Index: 1149 entries, 0 to 1257\n",
      "Data columns (total 6 columns):\n",
      " #   Column  Non-Null Count  Dtype  \n",
      "---  ------  --------------  -----  \n",
      " 0   Date    1149 non-null   object \n",
      " 1   Open    1149 non-null   float64\n",
      " 2   High    1149 non-null   float64\n",
      " 3   Low     1149 non-null   float64\n",
      " 4   Close   1149 non-null   float64\n",
      " 5   Volume  1149 non-null   object \n",
      "dtypes: float64(4), object(2)\n",
      "memory usage: 62.8+ KB\n"
     ]
    }
   ],
   "source": [
    "data.info()"
   ]
  },
  {
   "cell_type": "code",
   "execution_count": 6,
   "metadata": {},
   "outputs": [
    {
     "data": {
      "text/plain": [
       "(1149, 1)"
      ]
     },
     "execution_count": 6,
     "metadata": {},
     "output_type": "execute_result"
    }
   ],
   "source": [
    "sc = MinMaxScaler(feature_range=(0,1))\n",
    "trainData = sc.fit_transform(trainData)\n",
    "trainData.shape"
   ]
  },
  {
   "cell_type": "code",
   "execution_count": 8,
   "metadata": {},
   "outputs": [],
   "source": [
    "X_train = []\n",
    "y_train = []\n",
    "\n",
    "for i in range (60,1149): #60 : timestep // 1149 : length of the data\n",
    "    X_train.append(trainData[i-60:i,0]) \n",
    "    y_train.append(trainData[i,0])\n",
    "\n",
    "X_train,y_train = np.array(X_train),np.array(y_train)"
   ]
  },
  {
   "cell_type": "code",
   "execution_count": 9,
   "metadata": {},
   "outputs": [
    {
     "data": {
      "text/plain": [
       "(1089, 60, 1)"
      ]
     },
     "execution_count": 9,
     "metadata": {},
     "output_type": "execute_result"
    }
   ],
   "source": [
    "X_train = np.reshape(X_train,(X_train.shape[0],X_train.shape[1],1)) #adding the batch_size axis\n",
    "X_train.shape"
   ]
  },
  {
   "cell_type": "code",
   "execution_count": 10,
   "metadata": {},
   "outputs": [
    {
     "name": "stderr",
     "output_type": "stream",
     "text": [
      "C:\\Users\\HP\\AppData\\Roaming\\Python\\Python310\\site-packages\\keras\\src\\layers\\rnn\\rnn.py:204: UserWarning: Do not pass an `input_shape`/`input_dim` argument to a layer. When using Sequential models, prefer using an `Input(shape)` object as the first layer in the model instead.\n",
      "  super().__init__(**kwargs)\n"
     ]
    }
   ],
   "source": [
    "model = Sequential()\n",
    "\n",
    "model.add(LSTM(units=100, return_sequences = True, input_shape =(X_train.shape[1],1)))\n",
    "model.add(Dropout(0.2))\n",
    "\n",
    "model.add(LSTM(units=100, return_sequences = True))\n",
    "model.add(Dropout(0.2))\n",
    "\n",
    "model.add(LSTM(units=100, return_sequences = True))\n",
    "model.add(Dropout(0.2))\n",
    "\n",
    "model.add(LSTM(units=100, return_sequences = False))\n",
    "model.add(Dropout(0.2))\n",
    "\n",
    "model.add(Dense(units =1))\n",
    "model.compile(optimizer='adam',loss=\"mean_squared_error\")"
   ]
  },
  {
   "cell_type": "code",
   "execution_count": 11,
   "metadata": {},
   "outputs": [
    {
     "name": "stdout",
     "output_type": "stream",
     "text": [
      "Epoch 1/20\n",
      "35/35 - 22s - 626ms/step - loss: 0.0280\n",
      "Epoch 2/20\n",
      "35/35 - 5s - 155ms/step - loss: 0.0147\n",
      "Epoch 3/20\n",
      "35/35 - 10s - 295ms/step - loss: 0.0092\n",
      "Epoch 4/20\n",
      "35/35 - 5s - 156ms/step - loss: 0.0088\n",
      "Epoch 5/20\n",
      "35/35 - 6s - 157ms/step - loss: 0.0088\n",
      "Epoch 6/20\n",
      "35/35 - 6s - 159ms/step - loss: 0.0072\n",
      "Epoch 7/20\n",
      "35/35 - 6s - 169ms/step - loss: 0.0082\n",
      "Epoch 8/20\n",
      "35/35 - 6s - 167ms/step - loss: 0.0080\n",
      "Epoch 9/20\n",
      "35/35 - 5s - 157ms/step - loss: 0.0065\n",
      "Epoch 10/20\n",
      "35/35 - 6s - 161ms/step - loss: 0.0069\n",
      "Epoch 11/20\n",
      "35/35 - 6s - 171ms/step - loss: 0.0068\n",
      "Epoch 12/20\n",
      "35/35 - 6s - 165ms/step - loss: 0.0065\n",
      "Epoch 13/20\n",
      "35/35 - 11s - 319ms/step - loss: 0.0053\n",
      "Epoch 14/20\n",
      "35/35 - 9s - 249ms/step - loss: 0.0050\n",
      "Epoch 15/20\n",
      "35/35 - 6s - 164ms/step - loss: 0.0059\n",
      "Epoch 16/20\n",
      "35/35 - 5s - 157ms/step - loss: 0.0049\n",
      "Epoch 17/20\n",
      "35/35 - 5s - 154ms/step - loss: 0.0046\n",
      "Epoch 18/20\n",
      "35/35 - 6s - 162ms/step - loss: 0.0043\n",
      "Epoch 19/20\n",
      "35/35 - 9s - 248ms/step - loss: 0.0046\n",
      "Epoch 20/20\n",
      "35/35 - 7s - 214ms/step - loss: 0.0044\n"
     ]
    }
   ],
   "source": [
    "hist = model.fit(X_train, y_train, epochs = 20, batch_size = 32, verbose=2)"
   ]
  },
  {
   "cell_type": "code",
   "execution_count": 12,
   "metadata": {},
   "outputs": [
    {
     "data": {
      "image/png": "[encoded data removed]",
      "text/plain": [
       "<Figure size 640x480 with 1 Axes>"
      ]
     },
     "metadata": {},
     "output_type": "display_data"
    }
   ],
   "source": [
    "plt.plot(hist.history['loss'])\n",
    "plt.title('Training model loss')\n",
    "plt.ylabel('loss')\n",
    "plt.xlabel('epoch')\n",
    "plt.legend(['train'], loc='upper left')\n",
    "plt.show()"
   ]
  },
  {
   "cell_type": "code",
   "execution_count": 13,
   "metadata": {},
   "outputs": [
    {
     "data": {
      "text/plain": [
       "(192, 60, 1)"
      ]
     },
     "execution_count": 13,
     "metadata": {},
     "output_type": "execute_result"
    }
   ],
   "source": [
    "testData = pd.read_csv('Google_test_data.csv')\n",
    "testData[\"Close\"]=pd.to_numeric(testData.Close,errors='coerce')\n",
    "testData = testData.dropna()\n",
    "testData = testData.iloc[:,4:5]\n",
    "y_test = testData.iloc[60:,0:].values \n",
    "#input array for the model\n",
    "inputClosing = testData.iloc[:,0:].values \n",
    "inputClosing_scaled = sc.transform(inputClosing)\n",
    "inputClosing_scaled.shape\n",
    "X_test = []\n",
    "length = len(testData)\n",
    "timestep = 60\n",
    "for i in range(timestep,length):  \n",
    "    X_test.append(inputClosing_scaled[i-timestep:i,0])\n",
    "X_test = np.array(X_test)\n",
    "X_test = np.reshape(X_test,(X_test.shape[0],X_test.shape[1],1))\n",
    "X_test.shape"
   ]
  },
  {
   "cell_type": "code",
   "execution_count": 14,
   "metadata": {},
   "outputs": [
    {
     "name": "stdout",
     "output_type": "stream",
     "text": [
      "\u001b[1m6/6\u001b[0m \u001b[32m━━━━━━━━━━━━━━━━━━━━\u001b[0m\u001b[37m\u001b[0m \u001b[1m2s\u001b[0m 105ms/step\n"
     ]
    },
    {
     "data": {
      "text/plain": [
       "array([[1.1841598],\n",
       "       [1.1868327],\n",
       "       [1.1987134],\n",
       "       [1.2161348],\n",
       "       [1.2283944],\n",
       "       [1.2242477],\n",
       "       [1.20602  ],\n",
       "       [1.1844375],\n",
       "       [1.1727779],\n",
       "       [1.1722966],\n",
       "       [1.1677874],\n",
       "       [1.157743 ],\n",
       "       [1.1488681],\n",
       "       [1.1408566],\n",
       "       [1.140929 ],\n",
       "       [1.1477844],\n",
       "       [1.1688418],\n",
       "       [1.1996579],\n",
       "       [1.2324148],\n",
       "       [1.2624333],\n",
       "       [1.2690862],\n",
       "       [1.258027 ],\n",
       "       [1.2303576],\n",
       "       [1.196783 ],\n",
       "       [1.170578 ],\n",
       "       [1.1599584],\n",
       "       [1.1628798],\n",
       "       [1.1680391],\n",
       "       [1.1634864],\n",
       "       [1.153295 ],\n",
       "       [1.1414051],\n",
       "       [1.1278287],\n",
       "       [1.1070966],\n",
       "       [1.0818421],\n",
       "       [1.0743735],\n",
       "       [1.0889726],\n",
       "       [1.1156012],\n",
       "       [1.1425072],\n",
       "       [1.1649704],\n",
       "       [1.1724151],\n",
       "       [1.180064 ],\n",
       "       [1.1916559],\n",
       "       [1.2068275],\n",
       "       [1.2210672],\n",
       "       [1.229614 ],\n",
       "       [1.2278805],\n",
       "       [1.2147142],\n",
       "       [1.2046375],\n",
       "       [1.2037016],\n",
       "       [1.2127671],\n",
       "       [1.2293633],\n",
       "       [1.2397285],\n",
       "       [1.241588 ],\n",
       "       [1.2369996],\n",
       "       [1.2345339],\n",
       "       [1.2305063],\n",
       "       [1.2218451],\n",
       "       [1.2185285],\n",
       "       [1.2302418],\n",
       "       [1.2513149],\n",
       "       [1.2794093],\n",
       "       [1.3109776],\n",
       "       [1.3297032],\n",
       "       [1.3272597],\n",
       "       [1.3084806],\n",
       "       [1.2837133],\n",
       "       [1.2693235],\n",
       "       [1.2678881],\n",
       "       [1.2756472],\n",
       "       [1.2844956],\n",
       "       [1.2918588],\n",
       "       [1.2953726],\n",
       "       [1.2904294],\n",
       "       [1.2835212],\n",
       "       [1.2782655],\n",
       "       [1.2774715],\n",
       "       [1.2806482],\n",
       "       [1.2867799],\n",
       "       [1.299781 ],\n",
       "       [1.3184431],\n",
       "       [1.3414934],\n",
       "       [1.3619001],\n",
       "       [1.370624 ],\n",
       "       [1.3675646],\n",
       "       [1.3677763],\n",
       "       [1.3794518],\n",
       "       [1.3980763],\n",
       "       [1.4135586],\n",
       "       [1.4210403],\n",
       "       [1.4209213],\n",
       "       [1.4207679],\n",
       "       [1.4304305],\n",
       "       [1.4491992],\n",
       "       [1.4611764],\n",
       "       [1.4582405],\n",
       "       [1.4420706],\n",
       "       [1.417471 ],\n",
       "       [1.3916681],\n",
       "       [1.3728752],\n",
       "       [1.3704822],\n",
       "       [1.3833281],\n",
       "       [1.4049684],\n",
       "       [1.4297326],\n",
       "       [1.4484276],\n",
       "       [1.4567398],\n",
       "       [1.4540805],\n",
       "       [1.4464853],\n",
       "       [1.4393206],\n",
       "       [1.4389422],\n",
       "       [1.4451946],\n",
       "       [1.4560177],\n",
       "       [1.4700538],\n",
       "       [1.4831645],\n",
       "       [1.496253 ],\n",
       "       [1.5122846],\n",
       "       [1.5248177],\n",
       "       [1.5333126],\n",
       "       [1.5403414],\n",
       "       [1.5506401],\n",
       "       [1.5281985],\n",
       "       [1.4743848],\n",
       "       [1.4107692],\n",
       "       [1.3652385],\n",
       "       [1.3470753],\n",
       "       [1.3467555],\n",
       "       [1.3530616],\n",
       "       [1.3592069],\n",
       "       [1.3640987],\n",
       "       [1.3579408],\n",
       "       [1.3400754],\n",
       "       [1.3315387],\n",
       "       [1.3410476],\n",
       "       [1.3573986],\n",
       "       [1.3645388],\n",
       "       [1.3636824],\n",
       "       [1.3593757],\n",
       "       [1.3516203],\n",
       "       [1.3404809],\n",
       "       [1.3291237],\n",
       "       [1.314994 ],\n",
       "       [1.3010375],\n",
       "       [1.2861714],\n",
       "       [1.253006 ],\n",
       "       [1.2134161],\n",
       "       [1.1769108],\n",
       "       [1.1513419],\n",
       "       [1.1451116],\n",
       "       [1.1594027],\n",
       "       [1.1853418],\n",
       "       [1.2120706],\n",
       "       [1.2356951],\n",
       "       [1.2521869],\n",
       "       [1.2624477],\n",
       "       [1.2705188],\n",
       "       [1.2765332],\n",
       "       [1.2824248],\n",
       "       [1.2905692],\n",
       "       [1.2974018],\n",
       "       [1.2923179],\n",
       "       [1.2751267],\n",
       "       [1.2518858],\n",
       "       [1.2315027],\n",
       "       [1.2234347],\n",
       "       [1.2311325],\n",
       "       [1.2518427],\n",
       "       [1.2799227],\n",
       "       [1.3024343],\n",
       "       [1.3165703],\n",
       "       [1.3273267],\n",
       "       [1.3368374],\n",
       "       [1.344437 ],\n",
       "       [1.3505877],\n",
       "       [1.3556075],\n",
       "       [1.3566709],\n",
       "       [1.3539487],\n",
       "       [1.3442634],\n",
       "       [1.3331317],\n",
       "       [1.3269655],\n",
       "       [1.3241218],\n",
       "       [1.3214885],\n",
       "       [1.3545204],\n",
       "       [1.4124457],\n",
       "       [1.4672858],\n",
       "       [1.4996105],\n",
       "       [1.5050426],\n",
       "       [1.4871929],\n",
       "       [1.4452832],\n",
       "       [1.4007361],\n",
       "       [1.3685927],\n",
       "       [1.36277  ],\n",
       "       [1.3727582],\n",
       "       [1.38376  ]], dtype=float32)"
      ]
     },
     "execution_count": 14,
     "metadata": {},
     "output_type": "execute_result"
    }
   ],
   "source": [
    "y_pred = model.predict(X_test)\n",
    "y_pred"
   ]
  },
  {
   "cell_type": "code",
   "execution_count": 15,
   "metadata": {},
   "outputs": [],
   "source": [
    "predicted_price = sc.inverse_transform(y_pred)"
   ]
  },
  {
   "cell_type": "code",
   "execution_count": 16,
   "metadata": {},
   "outputs": [
    {
     "data": {
      "image/png": "[encoded data removed]",
      "text/plain": [
       "<Figure size 640x480 with 1 Axes>"
      ]
     },
     "metadata": {},
     "output_type": "display_data"
    }
   ],
   "source": [
    "plt.plot(y_test, color = 'red', label = 'Actual Stock Price')\n",
    "plt.plot(predicted_price, color = 'green', label = 'Predicted Stock Price')\n",
    "plt.title('Google stock price prediction')\n",
    "plt.xlabel('Time')\n",
    "plt.ylabel('Stock Price')\n",
    "plt.legend()\n",
    "plt.show()"
   ]
  },
  {
   "cell_type": "code",
   "execution_count": null,
   "metadata": {},
   "outputs": [],
   "source": []
  }
 ],
 "metadata": {
  "kernelspec": {
   "display_name": "Python 3",
   "language": "python",
   "name": "python3"
  },
  "language_info": {
   "codemirror_mode": {
    "name": "ipython",
    "version": 3
   },
   "file_extension": ".py",
   "mimetype": "text/x-python",
   "name": "python",
   "nbconvert_exporter": "python",
   "pygments_lexer": "ipython3",
   "version": "3.10.9"
  }
 },
 "nbformat": 4,
 "nbformat_minor": 4
}
